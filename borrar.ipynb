{
 "cells": [
  {
   "cell_type": "code",
   "execution_count": 10,
   "metadata": {},
   "outputs": [],
   "source": [
    "import requests \n",
    "\n",
    "client_id = '4e90e934295b4cb984d8ac90deab6d69' \n",
    "client_secret = '43f77b42f24f4ac4bb75552326377c5d'\n",
    "redirect_uri = 'http://127.0.0.1:4000/callback'\n",
    "authorization_code = request.args.get('code')\n",
    "stateKey = 'user-top-read'\n",
    "\n",
    "headers = ({\n",
    "            'Content-Type': \"application/json\",\n",
    "            \"Authorization\": f'Bearer  {client_secret}',\n",
    "            \"Accept\": \"application/json\",\n",
    "            \"Content-Type\": \"application/json\",\n",
    "        })"
   ]
  },
  {
   "cell_type": "code",
   "execution_count": 13,
   "metadata": {},
   "outputs": [
    {
     "data": {
      "text/plain": [
       "<Response [401]>"
      ]
     },
     "execution_count": 13,
     "metadata": {},
     "output_type": "execute_result"
    }
   ],
   "source": [
    "import requests\n",
    "\n",
    "requests.get('https://api.spotify.com/v1/me/player/recently-played', headers=headers)"
   ]
  },
  {
   "cell_type": "code",
   "execution_count": 14,
   "metadata": {},
   "outputs": [],
   "source": [
    "import base64\n",
    "import requests\n",
    "\n",
    "def get_access_token(client_id, client_secret, redirect_uri, authorization_code):\n",
    "    # Encode client ID and secret as base64\n",
    "    client_creds = f\"{client_id}:{client_secret}\"\n",
    "    b64_client_creds = base64.b64encode(client_creds.encode())\n",
    "\n",
    "    # Send POST request to Spotify token endpoint to exchange authorization code for access token\n",
    "    token_url = \"https://accounts.spotify.com/api/token\"\n",
    "    headers = {\"Authorization\": f\"Basic {b64_client_creds.decode()}\"}\n",
    "    data = {\n",
    "        \"grant_type\": \"authorization_code\",\n",
    "        \"code\": authorization_code,\n",
    "        \"redirect_uri\": redirect_uri\n",
    "    }\n",
    "    response = requests.post(token_url, headers=headers, data=data)\n",
    "\n",
    "    if response.status_code != 200:\n",
    "        raise Exception(\"Failed to retrieve access token\")\n",
    "\n",
    "    access_token = response.json()[\"access_token\"]\n",
    "    return access_token\n"
   ]
  },
  {
   "cell_type": "code",
   "execution_count": 15,
   "metadata": {},
   "outputs": [
    {
     "ename": "TypeError",
     "evalue": "get_access_token() missing 1 required positional argument: 'authorization_code'",
     "output_type": "error",
     "traceback": [
      "\u001b[0;31m---------------------------------------------------------------------------\u001b[0m",
      "\u001b[0;31mTypeError\u001b[0m                                 Traceback (most recent call last)",
      "Cell \u001b[0;32mIn[15], line 1\u001b[0m\n\u001b[0;32m----> 1\u001b[0m get_access_token(client_id\u001b[39m=\u001b[39;49mclient_id, client_secret\u001b[39m=\u001b[39;49mclient_secret, redirect_uri\u001b[39m=\u001b[39;49mredirect_uri)\n",
      "\u001b[0;31mTypeError\u001b[0m: get_access_token() missing 1 required positional argument: 'authorization_code'"
     ]
    }
   ],
   "source": [
    "get_access_token(client_id=client_id, client_secret=client_secret, redirect_uri=redirect_uri)"
   ]
  },
  {
   "cell_type": "code",
   "execution_count": 16,
   "metadata": {},
   "outputs": [],
   "source": [
    "from flask import Flask, redirect, request\n",
    "\n",
    "app = Flask(__name__)\n",
    "\n"
   ]
  },
  {
   "cell_type": "code",
   "execution_count": 17,
   "metadata": {},
   "outputs": [],
   "source": [
    "@app.route(\"/\")\n",
    "def index():\n",
    "    client_id = \"YOUR_CLIENT_ID\"\n",
    "    redirect_uri = \"http://localhost:5000/callback\"\n",
    "    scopes = [\"user-read-recently-played\"]\n",
    "\n",
    "    # Redirect user to Spotify authorization endpoint\n",
    "    auth_url = \"https://accounts.spotify.com/authorize\"\n",
    "    params = {\n",
    "        \"client_id\": client_id,\n",
    "        \"response_type\": \"code\",\n",
    "        \"redirect_uri\": redirect_uri,\n",
    "        \"scope\": \" \".join(scopes)\n",
    "    }\n",
    "    url = auth_url + \"?\" + \"&\".join([f\"{key}={value}\" for key, value in params.items()])\n",
    "    return redirect(url)\n"
   ]
  },
  {
   "cell_type": "code",
   "execution_count": 18,
   "metadata": {},
   "outputs": [],
   "source": [
    "\n",
    "@app.route(\"/callback\")\n",
    "def callback():\n",
    "    client_id = \"YOUR_CLIENT_ID\"\n",
    "    client_secret = \"YOUR_CLIENT_SECRET\"\n",
    "    redirect_uri = \"http://localhost:5000/callback\"\n",
    "\n",
    "    # Exchange authorization code for access token\n",
    "    authorization_code = request.args.get(\"code\")\n",
    "    token_url = \"https://accounts.spotify.com/api/token\"\n",
    "    headers = {\"Authorization\": f\"Basic {base64.b64encode(f'{client_id}:{client_secret}'.encode()).decode()}\"}\n",
    "    data = {\n",
    "        \"grant_type\": \"authorization_code\",\n",
    "        \"code\": authorization_code,\n",
    "        \"redirect_uri\": redirect_uri\n",
    "    }\n",
    "    response = requests.post(token_url, headers=headers, data=data)\n",
    "\n",
    "    if response.status_code != 200:\n",
    "        raise Exception(\"Failed to retrieve access token\")\n",
    "\n",
    "    access_token = response.json()[\"access_token\"]\n",
    "    return access_token\n"
   ]
  },
  {
   "cell_type": "code",
   "execution_count": 20,
   "metadata": {},
   "outputs": [
    {
     "name": "stdout",
     "output_type": "stream",
     "text": [
      " * Serving Flask app '__main__'\n",
      " * Debug mode: on\n"
     ]
    },
    {
     "name": "stderr",
     "output_type": "stream",
     "text": [
      "\u001b[31m\u001b[1mWARNING: This is a development server. Do not use it in a production deployment. Use a production WSGI server instead.\u001b[0m\n",
      " * Running on http://127.0.0.1:4000\n",
      "\u001b[33mPress CTRL+C to quit\u001b[0m\n",
      " * Restarting with stat\n",
      "Traceback (most recent call last):\n",
      "  File \"/Users/david/Documents/API-spotify/web-api-examples/authentication 2/authorization_code/venv/lib/python3.9/site-packages/ipykernel_launcher.py\", line 17, in <module>\n",
      "    app.launch_new_instance()\n",
      "  File \"/Users/david/Documents/API-spotify/web-api-examples/authentication 2/authorization_code/venv/lib/python3.9/site-packages/traitlets/config/application.py\", line 1042, in launch_instance\n",
      "    app.initialize(argv)\n",
      "  File \"/Users/david/Documents/API-spotify/web-api-examples/authentication 2/authorization_code/venv/lib/python3.9/site-packages/traitlets/config/application.py\", line 113, in inner\n",
      "    return method(app, *args, **kwargs)\n",
      "  File \"/Users/david/Documents/API-spotify/web-api-examples/authentication 2/authorization_code/venv/lib/python3.9/site-packages/ipykernel/kernelapp.py\", line 678, in initialize\n",
      "    self.init_sockets()\n",
      "  File \"/Users/david/Documents/API-spotify/web-api-examples/authentication 2/authorization_code/venv/lib/python3.9/site-packages/ipykernel/kernelapp.py\", line 317, in init_sockets\n",
      "    self.shell_port = self._bind_socket(self.shell_socket, self.shell_port)\n",
      "  File \"/Users/david/Documents/API-spotify/web-api-examples/authentication 2/authorization_code/venv/lib/python3.9/site-packages/ipykernel/kernelapp.py\", line 252, in _bind_socket\n",
      "    return self._try_bind_socket(s, port)\n",
      "  File \"/Users/david/Documents/API-spotify/web-api-examples/authentication 2/authorization_code/venv/lib/python3.9/site-packages/ipykernel/kernelapp.py\", line 228, in _try_bind_socket\n",
      "    s.bind(\"tcp://%s:%i\" % (self.ip, port))\n",
      "  File \"/Users/david/Documents/API-spotify/web-api-examples/authentication 2/authorization_code/venv/lib/python3.9/site-packages/zmq/sugar/socket.py\", line 300, in bind\n",
      "    super().bind(addr)\n",
      "  File \"zmq/backend/cython/socket.pyx\", line 564, in zmq.backend.cython.socket.Socket.bind\n",
      "  File \"zmq/backend/cython/checkrc.pxd\", line 28, in zmq.backend.cython.checkrc._check_rc\n",
      "zmq.error.ZMQError: Address already in use\n"
     ]
    },
    {
     "ename": "SystemExit",
     "evalue": "1",
     "output_type": "error",
     "traceback": [
      "An exception has occurred, use %tb to see the full traceback.\n",
      "\u001b[0;31mSystemExit\u001b[0m\u001b[0;31m:\u001b[0m 1\n"
     ]
    },
    {
     "name": "stderr",
     "output_type": "stream",
     "text": [
      "/Users/david/Documents/API-spotify/web-api-examples/authentication 2/authorization_code/venv/lib/python3.9/site-packages/IPython/core/interactiveshell.py:3468: UserWarning: To exit: use 'exit', 'quit', or Ctrl-D.\n",
      "  warn(\"To exit: use 'exit', 'quit', or Ctrl-D.\", stacklevel=1)\n"
     ]
    }
   ],
   "source": [
    "if __name__ == '__main__':\n",
    "  app.secret_key = 'super secret key'\n",
    "  app.run(host=\"127.0.0.1\", port=4000, debug=True)"
   ]
  },
  {
   "cell_type": "code",
   "execution_count": null,
   "metadata": {},
   "outputs": [],
   "source": []
  }
 ],
 "metadata": {
  "kernelspec": {
   "display_name": "Python 3.9.6 ('venv': venv)",
   "language": "python",
   "name": "python3"
  },
  "language_info": {
   "codemirror_mode": {
    "name": "ipython",
    "version": 3
   },
   "file_extension": ".py",
   "mimetype": "text/x-python",
   "name": "python",
   "nbconvert_exporter": "python",
   "pygments_lexer": "ipython3",
   "version": "3.9.6"
  },
  "orig_nbformat": 4,
  "vscode": {
   "interpreter": {
    "hash": "b4e2f6418e09f2a9eb3dd2b63000e9922428d8faff430deb2f7776dee6a3fef0"
   }
  }
 },
 "nbformat": 4,
 "nbformat_minor": 2
}
